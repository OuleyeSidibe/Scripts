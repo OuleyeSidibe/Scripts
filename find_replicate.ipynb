{
 "cells": [
  {
   "cell_type": "code",
   "execution_count": 93,
   "metadata": {},
   "outputs": [
    {
     "name": "stdout",
     "output_type": "stream",
     "text": [
      "   1  2  3\n",
      "0  G  G  A\n",
      "1  G  C  G\n",
      "2  C  C  C\n",
      "gene : erm_F__3_M17808 have 3 variants in desman.3.1\n"
     ]
    }
   ],
   "source": [
    "# # Librairies\n",
    "import os\n",
    "import pandas as pd\n",
    "from argparse import ArgumentParser\n",
    "import sys\n",
    "import fnmatch\n",
    "import glob\n",
    "import numpy as np\n",
    "\n",
    "\n",
    "\n",
    "\n",
    "\n",
    "# recupérer les variants majoritaires sous forme de liste et les positions variables de chaque fichier haplo\n",
    "def read_replicate_haplotype(replicate_file_path):\n",
    "\n",
    "    read_file = pd.read_csv(replicate_file_path, sep=\"\\t\", header=None)\n",
    "    read_file = read_file.loc[:,2:]\n",
    "    haplo_list = replicate_haplo.values.tolist() \n",
    "    \n",
    "    return haplo_list\n",
    "\n",
    "\n",
    "nb_replicate=5\n",
    "seuil_replicate=4\n",
    "\n",
    "\n",
    "\n",
    "directory = \"/home/osidibe/work/fluGenAvi_fugace/Analyse_postDESMAN_P2/DESMAN_iter\"\n",
    "gene = \"erm_F__3_M17808\"\n",
    "\n",
    "gene_dir = os.path.join(directory + \"/DESMAN_\" + gene)\n",
    "\n",
    "# Ouvrir le fichier final variant\n",
    "read_variant = pd.read_csv(f\"{gene_dir}/final_variant.csv\", index_col=(0))\n",
    "variant_list = read_variant.values.tolist()\n",
    "optimal_var = len(read_variant.columns)\n",
    "\n",
    "\n",
    "print(read_variant)\n",
    "\n",
    "\n",
    "# Ouvrir les réplicats du variant optimal\n",
    "for replicate_file in os.listdir(gene_dir):\n",
    "\n",
    "    if fnmatch.fnmatch(replicate_file, f\"desman.{optimal_var}.*\"):\n",
    "\n",
    "        replicate_file_path = os.path.join(gene_dir, replicate_file, \"Filtered_Tau_star_haplotypes\")\n",
    "        haplo_list= read_replicate_haplotype(replicate_file_path)\n",
    "\n",
    "        nb_var=0\n",
    "        for var in variant_list:\n",
    "            if var in haplo_list:\n",
    "                nb_var+=1\n",
    "        if nb_var == optimal_var:\n",
    "            print(f\"gene : {gene} have {optimal_var} variants in {replicate_file}\")\n",
    "            break        \n",
    "        # print(variant_list)\n",
    "# Ouvrir"
   ]
  },
  {
   "cell_type": "code",
   "execution_count": 52,
   "metadata": {},
   "outputs": [
    {
     "name": "stdout",
     "output_type": "stream",
     "text": [
      "<class 'int'>\n",
      "<class 'int'>\n",
      "<class 'int'>\n"
     ]
    }
   ],
   "source": [
    "for col in range(1, optimal_var+1):\n",
    "    print(type(col))"
   ]
  },
  {
   "cell_type": "code",
   "execution_count": null,
   "metadata": {},
   "outputs": [],
   "source": []
  }
 ],
 "metadata": {
  "kernelspec": {
   "display_name": "Python 3 (ipykernel)",
   "language": "python",
   "name": "python3"
  },
  "language_info": {
   "codemirror_mode": {
    "name": "ipython",
    "version": 3
   },
   "file_extension": ".py",
   "mimetype": "text/x-python",
   "name": "python",
   "nbconvert_exporter": "python",
   "pygments_lexer": "ipython3",
   "version": "3.8.17"
  },
  "orig_nbformat": 4
 },
 "nbformat": 4,
 "nbformat_minor": 2
}
