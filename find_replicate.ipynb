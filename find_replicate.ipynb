{
 "cells": [
  {
   "cell_type": "code",
   "execution_count": 3,
   "metadata": {},
   "outputs": [
    {
     "name": "stdout",
     "output_type": "stream",
     "text": [
      "/home/osidibe/work/fluGenAvi_fugace/Analyse_postDESMAN_P2/DESMAN_iterAddPost/DESMAN_aph_2____Ib_2_AF207840\n",
      "aph_2____Ib_2_AF207840\tdesman.2.1\n",
      "\n"
     ]
    }
   ],
   "source": [
    "# # Librairies\n",
    "import os\n",
    "import pandas as pd\n",
    "from argparse import ArgumentParser\n",
    "import sys\n",
    "import fnmatch\n",
    "import glob\n",
    "import numpy as np\n",
    "\n",
    "# analyseur d'argument\n",
    "def config_parameters():\n",
    "    parser= ArgumentParser()\n",
    "    parser.add_argument(\"-i\", \"--input\", dest=\"directory\", help= \"Desman directory\")\n",
    "    # parser.add_argument(\"-g\", \"--gene\", dest=\"gene_name\", help=\"list of gene_name\")\n",
    "    options=parser.parse_args()\n",
    "\n",
    "    if len(sys.argv) < 1:\n",
    "        sys.exit(\"warning: wrong number of arguments!!\")\n",
    "    return options.directory\n",
    "\n",
    "directory = \"/home/osidibe/work/fluGenAvi_fugace/Analyse_postDESMAN_P2/DESMAN_iterAddPost\"\n",
    "gene = \"aph_2____Ib_2_AF207840\"\n",
    "\n",
    "\n",
    "\n",
    "# recupérer les variants majoritaires sous forme de liste \n",
    "def read_variant():\n",
    "    read_variant = pd.read_csv(f\"{gene_dir}/final_variant.csv\", index_col=(0))\n",
    "    variant_list =[]\n",
    "    for col in read_variant.columns:\n",
    "        variant= read_variant[col].tolist()\n",
    "        variant_list.append(variant)\n",
    "    optimal_var = len(read_variant.columns)\n",
    "    return variant_list, optimal_var\n",
    "\n",
    "\n",
    "\n",
    "# Ouvri les fichiers filtered tau haplotype d echaque réplicat\n",
    "def read_replicate_haplotype(replicate_file_path):\n",
    "    read_file = pd.read_csv(replicate_file_path, sep=\"\\t\", header=None)\n",
    "    read_file = read_file.loc[:,2:]\n",
    "    read_file.columns = range(1, len(read_file.columns)+1)\n",
    "    haplo_list=[]\n",
    "    for col in read_file.columns:\n",
    "        haplo=read_file[col].tolist()\n",
    "        haplo_list.append(haplo)\n",
    "    \n",
    "    return haplo_list\n",
    "\n",
    "\n",
    "\n",
    "\n",
    "\n",
    "\n",
    "gene_dir = os.path.join(directory + \"/DESMAN_\"+ gene)\n",
    "print(gene_dir)\n",
    "\n",
    "\n",
    "variant_list, optimal_var = read_variant()\n",
    "# Ouvrir les réplicats du variant optimal\n",
    "for replicate_file in os.listdir(gene_dir):\n",
    "\n",
    "           \n",
    "    if fnmatch.fnmatch(replicate_file, f\"desman.{optimal_var}.*\"):\n",
    "\n",
    "        replicate_file_path = os.path.join(gene_dir, replicate_file, \"Filtered_Tau_star_haplotypes\")\n",
    "        haplo_list = read_replicate_haplotype(replicate_file_path)\n",
    "\n",
    "        nb_var=0\n",
    "        for var in variant_list:\n",
    "            if var in haplo_list:\n",
    "                nb_var+=1\n",
    "\n",
    "        if nb_var == optimal_var :\n",
    "            print(f\"{gene}\\t{replicate_file}\\n\")\n",
    "            \n",
    "            break\n",
    "\n",
    "            \n",
    "# Ouvrir"
   ]
  },
  {
   "cell_type": "code",
   "execution_count": 52,
   "metadata": {},
   "outputs": [
    {
     "name": "stdout",
     "output_type": "stream",
     "text": [
      "<class 'int'>\n",
      "<class 'int'>\n",
      "<class 'int'>\n"
     ]
    }
   ],
   "source": [
    "for col in range(1, optimal_var+1):\n",
    "    print(type(col))"
   ]
  },
  {
   "cell_type": "code",
   "execution_count": null,
   "metadata": {},
   "outputs": [],
   "source": []
  }
 ],
 "metadata": {
  "kernelspec": {
   "display_name": "Python 3 (ipykernel)",
   "language": "python",
   "name": "python3"
  },
  "language_info": {
   "codemirror_mode": {
    "name": "ipython",
    "version": 3
   },
   "file_extension": ".py",
   "mimetype": "text/x-python",
   "name": "python",
   "nbconvert_exporter": "python",
   "pygments_lexer": "ipython3",
   "version": "3.8.17"
  },
  "orig_nbformat": 4
 },
 "nbformat": 4,
 "nbformat_minor": 2
}
