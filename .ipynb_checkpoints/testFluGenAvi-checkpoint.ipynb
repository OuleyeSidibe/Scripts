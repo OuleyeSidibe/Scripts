{
 "cells": [
  {
   "cell_type": "markdown",
   "id": "53358620",
   "metadata": {},
   "source": [
    "Table_1 des génes aprés filtre"
   ]
  },
  {
   "cell_type": "code",
   "execution_count": 1,
   "id": "9bf98741-43e3-4976-a840-8d4d2e4eae95",
   "metadata": {},
   "outputs": [
    {
     "name": "stdout",
     "output_type": "stream",
     "text": [
      "102\n"
     ]
    }
   ],
   "source": [
    "import pandas as pd\n",
    "import glob\n",
    "import os\n",
    "from collections import Counter\n",
    "\n",
    "data = \"/home/osidibe/work/fluGenAvi_fugace/analyse_preDESMAN/filters/coverage_by_SAMPLE/out_statbyGENE_5_90_90/stat_beforeFILTER.csv\"\n",
    "\n",
    "my_data = pd.read_csv(data, sep = \"\\t\" , usecols = [0,1], names=[\"gene_name\", \"sample_name\"], index_col= [0])\n",
    "list1 = my_data.index.unique()\n",
    "print(len(list1))\n",
    "# print(len(set(my_data.index)))"
   ]
  },
  {
   "cell_type": "markdown",
   "id": "10190413",
   "metadata": {},
   "source": [
    "Table_2 des génes aprés filtre"
   ]
  },
  {
   "cell_type": "code",
   "execution_count": null,
   "id": "72b132ac",
   "metadata": {},
   "outputs": [],
   "source": [
    "import pandas as pd\n",
    "import glob\n",
    "import os\n",
    "from collections import Counter\n",
    "\n",
    "data = \"/home/osidibe/work/fluGenAvi_fugace/analyse_preDESMAN/filters/coverage_by_SAMPLE/out_statbyGENE_5_90_90/stat_afterFILTER.csv\"\n",
    "\n",
    "my_data = pd.read_csv(data, sep = \"\\t\" , usecols = [0,1], names=[\"gene_name\", \"sample_name\"], index_col= [0])\n",
    "\n",
    "list2 = my_data.index.unique()\n",
    "print(len(list2))\n",
    "# print(len(set(my_data.index)))\n"
   ]
  },
  {
   "cell_type": "markdown",
   "id": "5faef12f",
   "metadata": {},
   "source": [
    "Comparaison des deux tables pour ressortir les génes différents"
   ]
  },
  {
   "cell_type": "code",
   "execution_count": 3,
   "id": "5a3fee5c",
   "metadata": {},
   "outputs": [
    {
     "name": "stdout",
     "output_type": "stream",
     "text": [
      "['ant_6__Ia_5_AB247327', 'mph_B__1_D85892', 'erm_36__1_AF462611', 'lnu_B__1_AJ238249', 'lsa_E__1_JX560992', 'mef_B__1_FJ196385', 'tet_M__1_X92947', 'OqxA_1_EU370913', 'msr_A__1_X52085', 'cat_2_M35190', 'cmlA1_1_M64556', 'tet_M__10_EU182585', 'cmr_1_U43535', 'blaCARB_1_1_AF313471', 'fosD_1_KC989517', 'ant_6__Ia_2_KF421157', 'tet_Z__1_AF121000', 'ant_3____Ia_1_X02340', 'mef_A__3_AF227520', 'dfrA14_5_DQ388123', 'aac_6___Ii_1_L12710', 'erm_Q__1_L22689', 'tet_W__2_AY049983', 'mph_C__1_AB013298', 'lnu_G__1_KX470419', 'cmx_1_U85507', 'fosA7_1_LAPJ01000014', 'blaSHV_100_1_AM941846', 'lnu_A__1_M14039', 'tetA_P__1_AB054980', 'tet_J__1_ACLE01000065', 'tet_D__1_AF467077', 'aac_6___Iid_1_AJ584700', 'fosA6_1_KU254579', 'aadA9_1_AJ420072', 'tet_K__1_U38656', 'aph_3___Ia_2_EU287476', 'dfrA16_1_AF077008', 'Cfr_E__1_NG_070225', 'dfrA15_4_AJ867237', 'catS_1_X74948', 'catA1_1_V00622', 'dfrG_1_AB205645', 'OqxB_1_EU370913', 'tet_33__1_AY255627', 'mef_A__2_U83667', 'str_1_X92946', 'aadA2_1_NC_010870', 'tet_45__1_JF837331', 'mef_A__4_HG423652', 'cat_1_M11587', 'tet_X__3_AB097942', 'tet_L__1_HM235948', 'mef_A__1_AJ971089', 'aph_2____Ia_2_AP009486', 'cat_pC194__1_NC_002013', 'tet_X3__1_MK134375', 'lsa_A__1_AY225127', 'aph_2____Ih_1_KF652096', 'erm_43__1_HE650138', 'aph_3___VIIa_1_M29953', 'aph_2____Ig_1_CP004067', 'erm_T__1_M64090', 'blaACT_5_1_FJ237369', 'aph_2____If_2_AY701528', 'msr_C__1_AY004350']\n"
     ]
    }
   ],
   "source": [
    "set_difference = set(list1).symmetric_difference(set(list2))\n",
    "list_difference = list(set_difference)\n",
    "\n",
    "print(list_difference)"
   ]
  },
  {
   "cell_type": "markdown",
   "id": "9554fe9c",
   "metadata": {},
   "source": [
    "Création de table de comptage à partir de fichier fasta : e.g : vat_E_ref"
   ]
  },
  {
   "cell_type": "code",
   "execution_count": 193,
   "id": "36e46b7b",
   "metadata": {},
   "outputs": [
    {
     "name": "stdout",
     "output_type": "stream",
     "text": [
      "ATGACTATACCTGACGCAAATGCAATCTATCATAACTCAGCCATCAAAGAGGTTGTCTTTATCAAGAACGTGATCAAAAGTCCCAATATTGAAATTGGGGACTACACCTATTATGATGACCCAGTAAATCCCACCGATTTTGAGAAACACGTTACCCATCACTATGAATTTCTAGGCGACAAATTAATCATCGGTAAATTTTGTTCTCTCGCCAGTGGCATTGAATTTATCATGAACGGTGCCAACCACGTAATGAAAGGTATTTCGACTTATCCATTTAATATATTAGGTGGCGATTGGCAACAATACACTCCTGAACTGACTGATTTGCCGTTGAAAGGTGATACTGTAGTCGGAAATGACGTGTGGTTTGGGCAAAATGTGACCGTCCTACCAGGCGTAAAAATAGGTGACGGTGCCATTATCGGAGCAAATAGTGTTGTAACAAAAGACGTCGCTCCATATACAATTGTCGGTGGCAATCCAATTCAACTCATCGGACCAAGATTTGAACCGGAAGTTATTCAAGCATTAGAAAATCTGGCATGGTGGAATAAAGATATTGAATGGATAACTGCTAATGTTCCTAAACTAATGCAAACAACACCCACACTTGAATTGATAAACAGTTTAATGGAAAAATAA\n"
     ]
    }
   ],
   "source": [
    "import pandas as pd\n",
    "import numpy as np\n",
    "from Bio.SeqIO.FastaIO import SimpleFastaParser \n",
    "\n",
    "outputfile = \"/home/osidibe/work/fasta to freq\"\n",
    "fasta_path = \"/home/osidibe/work/fasta to freq/vat_E__3_AF153312.fasta\" \n",
    "\n",
    "\n",
    "table = pd.DataFrame(columns=[\"coordinate\"], data = range(1,length_seq+1,1), index=None)\n",
    "\n",
    "df = pd.DataFrame(columns = [\"A\", \"C\", \"G\",\"T\"])\n",
    "\n",
    "\n",
    "table = pd.concat([table,df])\n",
    "table[\"coordinate\"] = table[\"coordinate\"].astype(np.int64)\n",
    "table = table.set_index(\"coordinate\")\n",
    "table =table.fillna(0)\n",
    "\n",
    "\n",
    "\n",
    "\n",
    "with open(fasta_path) as handle :\n",
    "    for sequence in SimpleFastaParser(handle):\n",
    "        seq = sequence[1]\n",
    "        # print(seq)\n",
    "        length_seq = len(seq)\n",
    "\n",
    "    for index in range (1, length_seq+1):\n",
    "        if seq[index-1] == \"A\":\n",
    "            table.loc[index,\"A\"] =50\n",
    "        elif seq[index-1] == \"C\":\n",
    "            table.loc[index,\"C\"] =50\n",
    "        elif seq[index-1] == \"G\":\n",
    "            table.loc[index,\"G\"] =50\n",
    "        elif seq[index-1] == \"T\":\n",
    "            table.loc[index,\"T\"] =50\n",
    "            \n",
    "    table.to_csv(f\"{outputfile}/fre_allelic_vat_E.freq\", sep = \"\\t\")\n",
    "        "
   ]
  },
  {
   "cell_type": "markdown",
   "id": "7e1e26f0",
   "metadata": {},
   "source": [
    "Filtre des genes présents dans moins de 2 échantillons"
   ]
  },
  {
   "cell_type": "code",
   "execution_count": null,
   "id": "fd419f8b",
   "metadata": {},
   "outputs": [],
   "source": [
    "import pandas as pd\n",
    "\n",
    "\n",
    "data = \"/home/osidibe/work/fluGenAvi_fugace/analyse_preDESMAN/filters/coverage_by_SAMPLE/out_statbyGENE_5_90_90/stat_afterFILTER.csv\"\n",
    "outputdir = \"/home/osidibe/work/fluGenAvi_fugace/analyse_preDESMAN/filters/coverage_by_SAMPLE/out_statbyGENE_5_90_90\"\n",
    "\n",
    "\n",
    "my_data = pd.read_csv(data, sep = \"\\t\" , usecols = [0,1], names=[\"gene_name\", \"sample_name\"])\n",
    "\n",
    "gene_decompte = my_data.gene_name.value_counts()\n",
    "# print(gene_decompte)\n",
    "gene_decompte.to_csv(f\"{outputdir}/Prevalence.csv\", sep ='\\t')\n",
    "# print(len(gene_decompte))\n",
    "gene_decompte = gene_decompte[gene_decompte < 2]\n",
    "genes_list = gene_decompte.index\n",
    "\n",
    "\n",
    "my_data_series = pd.read_csv(data, sep = \"\\t\" , usecols = [0,1], names=[\"gene_name\", \"sample_name\"], index_col= [0])\n",
    "\n",
    "for gene in genes_list:\n",
    "    my_data_series.drop(labels =gene, inplace =True)\n",
    "\n",
    "\n",
    "my_data_series.to_csv(f\"{outputdir}/stat_afterFilter_final.csv\", sep='\\t')\n",
    "\n"
   ]
  },
  {
   "cell_type": "code",
   "execution_count": null,
   "id": "3e39b987",
   "metadata": {},
   "outputs": [],
   "source": [
    "import pandas as pd\n",
    "\n",
    "data = \"/home/osidibe/work/fluGenAvi_fugace/analyse_preDESMAN/filters/coverage_by_SAMPLE/out_statbyGENE_5_90_90/stat_afterFilter_final.csv\"\n",
    "genes = pd.read_csv(data)\n"
   ]
  },
  {
   "cell_type": "code",
   "execution_count": 17,
   "id": "f243ceac",
   "metadata": {},
   "outputs": [
    {
     "data": {
      "text/plain": [
       "[\"['aph_2____Ib_2_AF207840'\",\n",
       " \"'aph_6__Id_1_M28829'\",\n",
       " \"'aph_3___IIIa_1_AF330699']\"]"
      ]
     },
     "execution_count": 17,
     "metadata": {},
     "output_type": "execute_result"
    }
   ],
   "source": [
    "import pandas\n",
    "\n",
    "file = open(\"/home/osidibe/work/fluGenAvi_fugace/snakemake/genes_list_test.txt\", \"r\")\n",
    "\n",
    "genes_list = file.read().split(\",\")\n",
    "genes_list"
   ]
  },
  {
   "cell_type": "code",
   "execution_count": 26,
   "id": "ce9ae3c4",
   "metadata": {},
   "outputs": [
    {
     "name": "stdout",
     "output_type": "stream",
     "text": [
      "['aph_2____Ib_2_AF207840' 'aph_6__Id_1_M28829' 'aph_3___IIIa_1_AF330699'\n",
      " 'ant_6__Ia_3_KF864551' 'ant_6__Ib_1_FN594949' 'aph_2____Id_1_AF016483'\n",
      " 'cepA_1_L13472' 'blaTEM_1A_1_HM749966' 'erm_B__18_X66468'\n",
      " 'erm_F__3_M17808' 'erm_G__1_M15332' 'erm_X__1_M36726' 'lnu_C__1_AY928180'\n",
      " 'msr_D__2_AF274302' 'vat_E__3_AF153312' 'cat_3_S48276'\n",
      " 'tet_32__1_EU722333' 'tet_44__1_NZ_ABDU01000081' 'tet_40__1_FJ158002'\n",
      " 'tet_A__6_AF534183' 'tet_B__1_AP000342' 'tet_O__1_M18896'\n",
      " 'tet_L__2_M29725' 'tet_Q__3_U73497' 'tet_X__1_GU014535'\n",
      " 'tet_W__1_DQ060146' 'dfrA1_7_AJ400733' 'dfrD_1_Z50141']\n",
      "28\n"
     ]
    }
   ],
   "source": [
    "import pandas as pd\n",
    "\n",
    "outputfile = \"/home/osidibe/work/fluGenAvi_fugace/snakemake/genes_list.txt\"\n",
    "data = \"/home/osidibe/work/fluGenAvi_fugace/analyse_preDESMAN/filters/coverage_by_SAMPLE/out_statbyGENE_5_90_90/stat_afterFilter_final.csv\"\n",
    "file = open(outputfile, \"w\")\n",
    "\n",
    "genes = pd.read_csv(data, sep = \"\\t\")\n",
    "genes_list = genes.gene_name.unique()\n",
    "\n",
    "for gene in genes_list:\n",
    "    file.write(f\"{gene}\")\n",
    "\n",
    "print(genes_list)\n",
    "print(len(genes_list))\n",
    "\n",
    "\n"
   ]
  },
  {
   "cell_type": "code",
   "execution_count": 11,
   "id": "d3cedd85",
   "metadata": {},
   "outputs": [
    {
     "data": {
      "text/html": [
       "<div>\n",
       "<style scoped>\n",
       "    .dataframe tbody tr th:only-of-type {\n",
       "        vertical-align: middle;\n",
       "    }\n",
       "\n",
       "    .dataframe tbody tr th {\n",
       "        vertical-align: top;\n",
       "    }\n",
       "\n",
       "    .dataframe thead th {\n",
       "        text-align: right;\n",
       "    }\n",
       "</style>\n",
       "<table border=\"1\" class=\"dataframe\">\n",
       "  <thead>\n",
       "    <tr style=\"text-align: right;\">\n",
       "      <th></th>\n",
       "      <th>H</th>\n",
       "      <th>G</th>\n",
       "      <th>G2</th>\n",
       "      <th>LP</th>\n",
       "      <th>Dev</th>\n",
       "    </tr>\n",
       "  </thead>\n",
       "  <tbody>\n",
       "    <tr>\n",
       "      <th>25</th>\n",
       "      <td>Fit</td>\n",
       "      <td>5</td>\n",
       "      <td>5</td>\n",
       "      <td>-1774.352740</td>\n",
       "      <td>4944.251535</td>\n",
       "    </tr>\n",
       "    <tr>\n",
       "      <th>26</th>\n",
       "      <td>Fit</td>\n",
       "      <td>5</td>\n",
       "      <td>5</td>\n",
       "      <td>-1778.721161</td>\n",
       "      <td>4947.820663</td>\n",
       "    </tr>\n",
       "    <tr>\n",
       "      <th>27</th>\n",
       "      <td>Fit</td>\n",
       "      <td>5</td>\n",
       "      <td>5</td>\n",
       "      <td>-1786.642684</td>\n",
       "      <td>4944.686947</td>\n",
       "    </tr>\n",
       "    <tr>\n",
       "      <th>28</th>\n",
       "      <td>Fit</td>\n",
       "      <td>5</td>\n",
       "      <td>5</td>\n",
       "      <td>-1681.136233</td>\n",
       "      <td>5052.254257</td>\n",
       "    </tr>\n",
       "    <tr>\n",
       "      <th>29</th>\n",
       "      <td>Fit</td>\n",
       "      <td>5</td>\n",
       "      <td>5</td>\n",
       "      <td>-1775.729639</td>\n",
       "      <td>4960.884067</td>\n",
       "    </tr>\n",
       "  </tbody>\n",
       "</table>\n",
       "</div>"
      ],
      "text/plain": [
       "      H  G  G2           LP          Dev\n",
       "25  Fit  5   5 -1774.352740  4944.251535\n",
       "26  Fit  5   5 -1778.721161  4947.820663\n",
       "27  Fit  5   5 -1786.642684  4944.686947\n",
       "28  Fit  5   5 -1681.136233  5052.254257\n",
       "29  Fit  5   5 -1775.729639  4960.884067"
      ]
     },
     "execution_count": 11,
     "metadata": {},
     "output_type": "execute_result"
    }
   ],
   "source": [
    "import pandas as pd\n",
    "\n",
    "#oucrir le fichier all.fit\n",
    "inputfile = \"/home/osidibe/save/fuGace_project/Test_DESMAN/DESMAN_preFilter/DESMAN_erm_B__18_X66468/all_fit.txt\"\n",
    "optimal_variant = 5\n",
    "\n",
    "fichier_fit = pd.read_csv(inputfile, names = [\"H\", \"G\", \"G2\", \"LP\", \"Dev\"] )\n",
    "fichier_fit\n",
    "\n",
    "\n",
    "\n",
    "fichier_fit_opt = fichier_fit[fichier_fit.G == 5]\n",
    "fichier_fit_opt"
   ]
  },
  {
   "cell_type": "code",
   "execution_count": 56,
   "id": "cda66a1e",
   "metadata": {},
   "outputs": [],
   "source": [
    "import pandas as pd \n",
    "import os\n",
    "import glob\n",
    "import fnmatch\n",
    "\n",
    "directory = \"/home/osidibe/work/fluGenAvi_fugace/snakemake/snk_DESMAN_G2\"\n",
    "pattern_DESfile = \"desman*\"\n",
    "\n",
    "\n",
    "gene_name_dir = glob.glob(f\"{directory}/*\")\n",
    "\n",
    "for gene in gene_name_dir:\n",
    "    genes_rep = os.path.basename(gene)\n",
    "    with open (f\"{directory}/{genes_rep}/allfit_bis.txt\", \"w\") as bis_allfit:\n",
    "        for DEsfile in os.listdir(gene):\n",
    "            if fnmatch.fnmatch(DEsfile, pattern_DESfile):\n",
    "                fit_dir = os.path.join(f\"{directory}/{genes_rep}/{DEsfile}/fit.txt\")           \n",
    "                with open (fit_dir, \"r\") as fitfile:\n",
    "                    bis_allfit.write(fitfile.read())\n",
    "                    \n",
    "            \n",
    "\n",
    "read_fit = pd.read_csv(f\"{gene_name}/allfit_bis.txt\")\n",
    "print(read_fit)            \n",
    "sort_fit = read_fit.sort_values(by=read_fit.columns[1]).reset_index(drop=True)      \n",
    "print(sort_fit)  \n",
    "sort_fit.to_csv(f\"{gene_name}/allfit_bis.txt\", index=False)\n",
    "\n",
    "        \n",
    "        \n",
    "\n"
   ]
  },
  {
   "cell_type": "code",
   "execution_count": 17,
   "id": "8c485d14",
   "metadata": {},
   "outputs": [],
   "source": [
    "import pandas as pd \n",
    "import os\n",
    "import glob\n",
    "import fnmatch\n",
    "\n",
    "fit_file = \"/home/osidibe/work/fluGenAvi_fugace/snakemake/snk_DESMAN/DESMAN_blaTEM_1A_1_HM749966\"\n",
    "\n",
    "read_ff = pd.read_csv(f\"{fit_file}/all_fit.txt\", header=None)\n",
    "sort_ff = read_ff.sort_values(read_ff.columns[1], ascending=True)\n",
    "sort_ff.to_csv(f\"{fit_file}/fitbis.txt\", index=False)"
   ]
  },
  {
   "cell_type": "markdown",
   "id": "555fa72e-c407-4130-98ee-fa6e420b9402",
   "metadata": {},
   "source": [
    "Table du nombre de variant et proportion de bonnes matrices d'erreurs"
   ]
  },
  {
   "cell_type": "code",
   "execution_count": 251,
   "id": "a698d97a-e0ea-4acd-a594-2e07d1098408",
   "metadata": {
    "tags": []
   },
   "outputs": [],
   "source": [
    "import pandas as pd\n",
    "import numpy as np\n",
    "import glob\n",
    "import os\n",
    "\n",
    "\n",
    "\n",
    "inputdir=\"/home/osidibe/work/fluGenAvi_fugace/analyse_postDESMAN/DESMAN\"\n",
    "genes_namesList=\"/home/osidibe/work/fluGenAvi_fugace/analyse_postDESMAN/genes_list.txt\"\n",
    "genes_namesList\n",
    "\n",
    "\n",
    "\n",
    "#Ouvrir genes_namesList pour lecture\n",
    "genes_list = pd.read_table(genes_namesList, header=None, index_col=[0])\n",
    "\n",
    "table= pd.DataFrame(columns=[\"gene_name\", \"Num_PosVariable\", \"Prop_matriceERRexact\"])\n",
    "\n",
    "\n",
    "#Pour chaque nom de gène ouvrir son répertoire\n",
    "for gene in genes_list.index:\n",
    "    list =[]\n",
    "    df_sel_var = pd.read_csv(f\"{inputdir}/DESMAN_{gene}/file.outsel_var.csv\")\n",
    "    #Nombre de positions variables du géne\n",
    "    numb_Pvar = len(df_sel_var)\n",
    "    \n",
    "    ##ourvrir chaque sous repertoire du géne\n",
    "    #Répertoire desman du géne        \n",
    "    dir_gene = os.path.join(inputdir, \"DESMAN_\" + gene)\n",
    "    #Nom de fichier de la matrice d'erreur\n",
    "    matriceERR_file = \"Eta_star.csv\"\n",
    "    #Pour chaque sous repertoire\n",
    "    for desman_file in os.listdir(dir_gene):\n",
    "        #Joindre le fichier desman au chemin du repertoire parent\n",
    "        path = os.path.join(dir_gene, desman_file)\n",
    "        #renvoie le chemin que si c'est un repertoire\n",
    "        if os.path.isdir(path) :\n",
    "            #rajoute le chemin vers le fichier matrice d'erreur\n",
    "            dir_matriceERR = os.path.join(path, matriceERR_file)\n",
    "            #print(dir_matriceERR)\n",
    "            \n",
    "            ##Ouvrir le fichier pour lecture\n",
    "            df_matriceERR = pd.read_csv(dir_matriceERR)\n",
    "            #print(df_matriceERR.shape)\n",
    "            df = np.genfromtxt(dir_matriceERR , delimiter=\",\", dtype=float, skip_header=True, usecols=(1,2,3,4))\n",
    "            #print(df)\n",
    "            \n",
    "            if np.array((df[0,0] > 0.9) & (df[1,1] > 0.9) & (df[2,2] > 0.9) & (df[3,3] > 0.9)):\n",
    "                #print(\"yes\")\n",
    "                list.append(1)\n",
    "            else :\n",
    "                #print(\"no\")\n",
    "                list.append(0)\n",
    "                \n",
    "\n",
    "    Prp_matriceERR = sum(list)/ len(list)\n",
    "    \n",
    "    #print(Prp_matriceERR)\n",
    "    \n",
    "    #result = pd.DataFrame({\"gene_name\":gene, \"Num_PosVariable\":numb_Pvar,\"Prop_matriceERRexact\":Prp_matriceERR})\n",
    "    \n",
    "    result = pd.DataFrame(data=[[gene, numb_Pvar, Prp_matriceERR]], columns=[\"gene_name\",\"Num_PosVariable\", \"Prop_matriceERRexact\"])\n",
    "    table = pd.concat([table, result], ignore_index=True)\n",
    "    \n",
    "    \n",
    "table.to_csv(f\"{inputdir}/Prop_matriceERRexact.csv\", index=False)\n",
    "    \n",
    "    \n",
    "#courbe de distribution de la proportion de matrices d'erreurs exactes en fonction du nombre de position variable\n",
    "\n",
    "\n",
    "\n",
    "    \n",
    "    "
   ]
  },
  {
   "cell_type": "code",
   "execution_count": 169,
   "id": "b8f240f2-9c6c-4d2b-9043-11bdb7a60c5e",
   "metadata": {},
   "outputs": [
    {
     "name": "stdout",
     "output_type": "stream",
     "text": [
      "[[9.95599666e-01 2.11180472e-09 4.40020174e-03 1.30235028e-07]\n",
      " [1.01316924e-20 9.92060171e-01 1.46695963e-13 7.93982857e-03]\n",
      " [1.59766854e-04 3.98504870e-14 9.99840233e-01 1.14161681e-25]\n",
      " [1.27073740e-17 1.46130483e-04 2.01902764e-20 9.99853870e-01]]\n",
      "yes\n",
      "[1]\n"
     ]
    },
    {
     "data": {
      "text/plain": [
       "1.0"
      ]
     },
     "execution_count": 169,
     "metadata": {},
     "output_type": "execute_result"
    }
   ],
   "source": [
    "import numpy as np\n",
    "\n",
    "\n",
    "file = \"/home/osidibe/work/fluGenAvi_fugace/analyse_postDESMAN/DESMAN/DESMAN_blaTEM_1A_1_HM749966/desman.3.4/Eta_star.csv\"\n",
    "df = np.genfromtxt(file, delimiter=\",\", dtype=float, skip_header=True, usecols=(1,2,3,4))\n",
    "print(df)\n",
    "list =[]\n",
    "if np.array((df[0,0] > 0.9) & (df[1,1] > 0.9) & (df[2,2] > 0.9) & (df[3,3] > 0.9)):\n",
    "    print(\"yes\")\n",
    "    list.append(1)\n",
    "else :\n",
    "    print(\"no\")\n",
    "    list.append(0)\n",
    "print(list)\n",
    "\n",
    "Prp_matriceERR = sum(list)/ len(list)\n",
    "Prp_matriceERR\n"
   ]
  },
  {
   "cell_type": "code",
   "execution_count": null,
   "id": "544a1a5b-d46a-48a1-a6e2-fde0f4a85347",
   "metadata": {},
   "outputs": [],
   "source": []
  }
 ],
 "metadata": {
  "kernelspec": {
   "display_name": "Python 3 (ipykernel)",
   "language": "python",
   "name": "python3"
  },
  "language_info": {
   "codemirror_mode": {
    "name": "ipython",
    "version": 3
   },
   "file_extension": ".py",
   "mimetype": "text/x-python",
   "name": "python",
   "nbconvert_exporter": "python",
   "pygments_lexer": "ipython3",
   "version": "3.11.0"
  }
 },
 "nbformat": 4,
 "nbformat_minor": 5
}
